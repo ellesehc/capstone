{
 "cells": [
  {
   "cell_type": "code",
   "execution_count": 144,
   "id": "4fb2b919",
   "metadata": {},
   "outputs": [],
   "source": [
    "import pandas as pd\n",
    "import numpy as np\n",
    "import matplotlib.pyplot as plt"
   ]
  },
  {
   "cell_type": "code",
   "execution_count": 27,
   "id": "2b93be03",
   "metadata": {},
   "outputs": [],
   "source": [
    "data = pd.read_csv('processed_data.csv')"
   ]
  },
  {
   "cell_type": "code",
   "execution_count": 28,
   "id": "5e1f5b90",
   "metadata": {},
   "outputs": [
    {
     "name": "stdout",
     "output_type": "stream",
     "text": [
      "<class 'pandas.core.frame.DataFrame'>\n",
      "RangeIndex: 10915 entries, 0 to 10914\n",
      "Data columns (total 35 columns):\n",
      " #   Column              Non-Null Count  Dtype  \n",
      "---  ------              --------------  -----  \n",
      " 0   Unnamed: 0          10915 non-null  int64  \n",
      " 1   Business Name       10915 non-null  object \n",
      " 2   Average Rating      10915 non-null  float64\n",
      " 3   Review Grade        10915 non-null  object \n",
      " 4   Title               10915 non-null  object \n",
      " 5   Review              10915 non-null  object \n",
      " 6   Rating              10915 non-null  int64  \n",
      " 7   Time                10915 non-null  object \n",
      " 8   Review Count        10915 non-null  object \n",
      " 9   Country             10915 non-null  object \n",
      " 10  Status              5947 non-null   object \n",
      " 11  Month               10915 non-null  object \n",
      " 12  Month Numbers       10915 non-null  int64  \n",
      " 13  Years               10915 non-null  object \n",
      " 14  Rating Distance     10915 non-null  float64\n",
      " 15  body_neg            10915 non-null  float64\n",
      " 16  body_neu            10915 non-null  float64\n",
      " 17  body_pos            10915 non-null  float64\n",
      " 18  body_com            10915 non-null  float64\n",
      " 19  title_neg           10915 non-null  float64\n",
      " 20  title_neu           10915 non-null  float64\n",
      " 21  title_pos           10915 non-null  float64\n",
      " 22  title_com           10915 non-null  float64\n",
      " 23  Title Length        10915 non-null  int64  \n",
      " 24  Body Length         10915 non-null  int64  \n",
      " 25  Total Length        10915 non-null  int64  \n",
      " 26  Title Emoji         10915 non-null  int64  \n",
      " 27  Body Emoji          10915 non-null  int64  \n",
      " 28  Title Ellipses      10915 non-null  int64  \n",
      " 29  Body Ellipses       10915 non-null  int64  \n",
      " 30  Title Hashtags      10915 non-null  int64  \n",
      " 31  Body Hashtags       10915 non-null  int64  \n",
      " 32  Title Exclamations  10915 non-null  int64  \n",
      " 33  Body Exclamations   10915 non-null  int64  \n",
      " 34  Status Rank         10915 non-null  int64  \n",
      "dtypes: float64(10), int64(15), object(10)\n",
      "memory usage: 2.9+ MB\n"
     ]
    }
   ],
   "source": [
    "data.info()"
   ]
  },
  {
   "cell_type": "code",
   "execution_count": 31,
   "id": "011e8a06",
   "metadata": {},
   "outputs": [
    {
     "name": "stdout",
     "output_type": "stream",
     "text": [
      "<class 'pandas.core.frame.DataFrame'>\n",
      "RangeIndex: 10915 entries, 0 to 10914\n",
      "Data columns (total 29 columns):\n",
      " #   Column              Non-Null Count  Dtype  \n",
      "---  ------              --------------  -----  \n",
      " 0   Rating              10915 non-null  int64  \n",
      " 1   Time                10915 non-null  object \n",
      " 2   Review Count        10915 non-null  object \n",
      " 3   Country             10915 non-null  object \n",
      " 4   Status              5947 non-null   object \n",
      " 5   Month               10915 non-null  object \n",
      " 6   Month Numbers       10915 non-null  int64  \n",
      " 7   Years               10915 non-null  object \n",
      " 8   Rating Distance     10915 non-null  float64\n",
      " 9   body_neg            10915 non-null  float64\n",
      " 10  body_neu            10915 non-null  float64\n",
      " 11  body_pos            10915 non-null  float64\n",
      " 12  body_com            10915 non-null  float64\n",
      " 13  title_neg           10915 non-null  float64\n",
      " 14  title_neu           10915 non-null  float64\n",
      " 15  title_pos           10915 non-null  float64\n",
      " 16  title_com           10915 non-null  float64\n",
      " 17  Title Length        10915 non-null  int64  \n",
      " 18  Body Length         10915 non-null  int64  \n",
      " 19  Total Length        10915 non-null  int64  \n",
      " 20  Title Emoji         10915 non-null  int64  \n",
      " 21  Body Emoji          10915 non-null  int64  \n",
      " 22  Title Ellipses      10915 non-null  int64  \n",
      " 23  Body Ellipses       10915 non-null  int64  \n",
      " 24  Title Hashtags      10915 non-null  int64  \n",
      " 25  Body Hashtags       10915 non-null  int64  \n",
      " 26  Title Exclamations  10915 non-null  int64  \n",
      " 27  Body Exclamations   10915 non-null  int64  \n",
      " 28  Status Rank         10915 non-null  int64  \n",
      "dtypes: float64(9), int64(14), object(6)\n",
      "memory usage: 2.4+ MB\n"
     ]
    }
   ],
   "source": [
    "data.drop(data.columns[[0,1,2,3,4]], axis = 1, inplace = True)\n",
    "data.info()"
   ]
  },
  {
   "cell_type": "code",
   "execution_count": 32,
   "id": "42d57405",
   "metadata": {},
   "outputs": [
    {
     "name": "stdout",
     "output_type": "stream",
     "text": [
      "<class 'pandas.core.frame.DataFrame'>\n",
      "RangeIndex: 10915 entries, 0 to 10914\n",
      "Data columns (total 23 columns):\n",
      " #   Column              Non-Null Count  Dtype  \n",
      "---  ------              --------------  -----  \n",
      " 0   Rating              10915 non-null  int64  \n",
      " 1   Review Count        10915 non-null  object \n",
      " 2   Country             10915 non-null  object \n",
      " 3   body_neg            10915 non-null  float64\n",
      " 4   body_neu            10915 non-null  float64\n",
      " 5   body_pos            10915 non-null  float64\n",
      " 6   body_com            10915 non-null  float64\n",
      " 7   title_neg           10915 non-null  float64\n",
      " 8   title_neu           10915 non-null  float64\n",
      " 9   title_pos           10915 non-null  float64\n",
      " 10  title_com           10915 non-null  float64\n",
      " 11  Title Length        10915 non-null  int64  \n",
      " 12  Body Length         10915 non-null  int64  \n",
      " 13  Total Length        10915 non-null  int64  \n",
      " 14  Title Emoji         10915 non-null  int64  \n",
      " 15  Body Emoji          10915 non-null  int64  \n",
      " 16  Title Ellipses      10915 non-null  int64  \n",
      " 17  Body Ellipses       10915 non-null  int64  \n",
      " 18  Title Hashtags      10915 non-null  int64  \n",
      " 19  Body Hashtags       10915 non-null  int64  \n",
      " 20  Title Exclamations  10915 non-null  int64  \n",
      " 21  Body Exclamations   10915 non-null  int64  \n",
      " 22  Status Rank         10915 non-null  int64  \n",
      "dtypes: float64(8), int64(13), object(2)\n",
      "memory usage: 1.9+ MB\n"
     ]
    }
   ],
   "source": [
    "data.drop(data.columns[[1,4,5,6,7,8]], axis = 1, inplace = True)\n",
    "data.info()"
   ]
  },
  {
   "cell_type": "code",
   "execution_count": 117,
   "id": "12fdabe2",
   "metadata": {},
   "outputs": [],
   "source": [
    "ph_data = data[data['Country'] == 'PH']"
   ]
  },
  {
   "cell_type": "code",
   "execution_count": 118,
   "id": "72f5a313",
   "metadata": {},
   "outputs": [],
   "source": [
    "ph_data.drop(['Country'], axis = 1, inplace = True)\n"
   ]
  },
  {
   "cell_type": "code",
   "execution_count": 119,
   "id": "65560437",
   "metadata": {},
   "outputs": [
    {
     "name": "stdout",
     "output_type": "stream",
     "text": [
      "<class 'pandas.core.frame.DataFrame'>\n",
      "Int64Index: 6105 entries, 1 to 10914\n",
      "Data columns (total 22 columns):\n",
      " #   Column              Non-Null Count  Dtype  \n",
      "---  ------              --------------  -----  \n",
      " 0   Rating              6105 non-null   int64  \n",
      " 1   Review Count        6105 non-null   object \n",
      " 2   body_neg            6105 non-null   float64\n",
      " 3   body_neu            6105 non-null   float64\n",
      " 4   body_pos            6105 non-null   float64\n",
      " 5   body_com            6105 non-null   float64\n",
      " 6   title_neg           6105 non-null   float64\n",
      " 7   title_neu           6105 non-null   float64\n",
      " 8   title_pos           6105 non-null   float64\n",
      " 9   title_com           6105 non-null   float64\n",
      " 10  Title Length        6105 non-null   int64  \n",
      " 11  Body Length         6105 non-null   int64  \n",
      " 12  Total Length        6105 non-null   int64  \n",
      " 13  Title Emoji         6105 non-null   int64  \n",
      " 14  Body Emoji          6105 non-null   int64  \n",
      " 15  Title Ellipses      6105 non-null   int64  \n",
      " 16  Body Ellipses       6105 non-null   int64  \n",
      " 17  Title Hashtags      6105 non-null   int64  \n",
      " 18  Body Hashtags       6105 non-null   int64  \n",
      " 19  Title Exclamations  6105 non-null   int64  \n",
      " 20  Body Exclamations   6105 non-null   int64  \n",
      " 21  Status Rank         6105 non-null   int64  \n",
      "dtypes: float64(8), int64(13), object(1)\n",
      "memory usage: 1.1+ MB\n"
     ]
    }
   ],
   "source": [
    "ph_data.info()"
   ]
  },
  {
   "cell_type": "code",
   "execution_count": 120,
   "id": "d27e42b3",
   "metadata": {},
   "outputs": [],
   "source": [
    "ph_data.drop(10, axis = 0, inplace = True)"
   ]
  },
  {
   "cell_type": "code",
   "execution_count": 121,
   "id": "a739fa97",
   "metadata": {},
   "outputs": [
    {
     "name": "stdout",
     "output_type": "stream",
     "text": [
      "<class 'pandas.core.frame.DataFrame'>\n",
      "Int64Index: 6104 entries, 1 to 10914\n",
      "Data columns (total 22 columns):\n",
      " #   Column              Non-Null Count  Dtype  \n",
      "---  ------              --------------  -----  \n",
      " 0   Rating              6104 non-null   int64  \n",
      " 1   Review Count        6104 non-null   object \n",
      " 2   body_neg            6104 non-null   float64\n",
      " 3   body_neu            6104 non-null   float64\n",
      " 4   body_pos            6104 non-null   float64\n",
      " 5   body_com            6104 non-null   float64\n",
      " 6   title_neg           6104 non-null   float64\n",
      " 7   title_neu           6104 non-null   float64\n",
      " 8   title_pos           6104 non-null   float64\n",
      " 9   title_com           6104 non-null   float64\n",
      " 10  Title Length        6104 non-null   int64  \n",
      " 11  Body Length         6104 non-null   int64  \n",
      " 12  Total Length        6104 non-null   int64  \n",
      " 13  Title Emoji         6104 non-null   int64  \n",
      " 14  Body Emoji          6104 non-null   int64  \n",
      " 15  Title Ellipses      6104 non-null   int64  \n",
      " 16  Body Ellipses       6104 non-null   int64  \n",
      " 17  Title Hashtags      6104 non-null   int64  \n",
      " 18  Body Hashtags       6104 non-null   int64  \n",
      " 19  Title Exclamations  6104 non-null   int64  \n",
      " 20  Body Exclamations   6104 non-null   int64  \n",
      " 21  Status Rank         6104 non-null   int64  \n",
      "dtypes: float64(8), int64(13), object(1)\n",
      "memory usage: 1.1+ MB\n"
     ]
    }
   ],
   "source": [
    "ph_data.info()"
   ]
  },
  {
   "cell_type": "code",
   "execution_count": 122,
   "id": "9388d9ca",
   "metadata": {
    "scrolled": true
   },
   "outputs": [
    {
     "name": "stderr",
     "output_type": "stream",
     "text": [
      "<ipython-input-122-6d28182b2500>:6: SettingWithCopyWarning: \n",
      "A value is trying to be set on a copy of a slice from a DataFrame.\n",
      "Try using .loc[row_indexer,col_indexer] = value instead\n",
      "\n",
      "See the caveats in the documentation: https://pandas.pydata.org/pandas-docs/stable/user_guide/indexing.html#returning-a-view-versus-a-copy\n",
      "  ph_data['# Reviews'] = review_count\n",
      "<ipython-input-122-6d28182b2500>:7: SettingWithCopyWarning: \n",
      "A value is trying to be set on a copy of a slice from a DataFrame.\n",
      "Try using .loc[row_indexer,col_indexer] = value instead\n",
      "\n",
      "See the caveats in the documentation: https://pandas.pydata.org/pandas-docs/stable/user_guide/indexing.html#returning-a-view-versus-a-copy\n",
      "  ph_data['Target Rating'] = ph_data['Rating']\n"
     ]
    }
   ],
   "source": [
    "review_count = []\n",
    "\n",
    "for row in ph_data['Review Count']:\n",
    "    review_count.append(int(row))\n",
    "    \n",
    "ph_data['# Reviews'] = review_count\n",
    "ph_data['Target Rating'] = ph_data['Rating']"
   ]
  },
  {
   "cell_type": "code",
   "execution_count": 123,
   "id": "90507c49",
   "metadata": {},
   "outputs": [
    {
     "name": "stdout",
     "output_type": "stream",
     "text": [
      "<class 'pandas.core.frame.DataFrame'>\n",
      "Int64Index: 6104 entries, 1 to 10914\n",
      "Data columns (total 24 columns):\n",
      " #   Column              Non-Null Count  Dtype  \n",
      "---  ------              --------------  -----  \n",
      " 0   Rating              6104 non-null   int64  \n",
      " 1   Review Count        6104 non-null   object \n",
      " 2   body_neg            6104 non-null   float64\n",
      " 3   body_neu            6104 non-null   float64\n",
      " 4   body_pos            6104 non-null   float64\n",
      " 5   body_com            6104 non-null   float64\n",
      " 6   title_neg           6104 non-null   float64\n",
      " 7   title_neu           6104 non-null   float64\n",
      " 8   title_pos           6104 non-null   float64\n",
      " 9   title_com           6104 non-null   float64\n",
      " 10  Title Length        6104 non-null   int64  \n",
      " 11  Body Length         6104 non-null   int64  \n",
      " 12  Total Length        6104 non-null   int64  \n",
      " 13  Title Emoji         6104 non-null   int64  \n",
      " 14  Body Emoji          6104 non-null   int64  \n",
      " 15  Title Ellipses      6104 non-null   int64  \n",
      " 16  Body Ellipses       6104 non-null   int64  \n",
      " 17  Title Hashtags      6104 non-null   int64  \n",
      " 18  Body Hashtags       6104 non-null   int64  \n",
      " 19  Title Exclamations  6104 non-null   int64  \n",
      " 20  Body Exclamations   6104 non-null   int64  \n",
      " 21  Status Rank         6104 non-null   int64  \n",
      " 22  # Reviews           6104 non-null   int64  \n",
      " 23  Target Rating       6104 non-null   int64  \n",
      "dtypes: float64(8), int64(15), object(1)\n",
      "memory usage: 1.2+ MB\n"
     ]
    }
   ],
   "source": [
    "ph_data.info()"
   ]
  },
  {
   "cell_type": "code",
   "execution_count": 124,
   "id": "4ca78878",
   "metadata": {
    "scrolled": true
   },
   "outputs": [],
   "source": [
    "ph_data.drop(['Review Count'], axis = 1, inplace = True)\n",
    "ph_data.drop(['Rating'], axis = 1, inplace = True)"
   ]
  },
  {
   "cell_type": "code",
   "execution_count": 125,
   "id": "c1ea8246",
   "metadata": {},
   "outputs": [
    {
     "name": "stdout",
     "output_type": "stream",
     "text": [
      "<class 'pandas.core.frame.DataFrame'>\n",
      "Int64Index: 6104 entries, 1 to 10914\n",
      "Data columns (total 22 columns):\n",
      " #   Column              Non-Null Count  Dtype  \n",
      "---  ------              --------------  -----  \n",
      " 0   body_neg            6104 non-null   float64\n",
      " 1   body_neu            6104 non-null   float64\n",
      " 2   body_pos            6104 non-null   float64\n",
      " 3   body_com            6104 non-null   float64\n",
      " 4   title_neg           6104 non-null   float64\n",
      " 5   title_neu           6104 non-null   float64\n",
      " 6   title_pos           6104 non-null   float64\n",
      " 7   title_com           6104 non-null   float64\n",
      " 8   Title Length        6104 non-null   int64  \n",
      " 9   Body Length         6104 non-null   int64  \n",
      " 10  Total Length        6104 non-null   int64  \n",
      " 11  Title Emoji         6104 non-null   int64  \n",
      " 12  Body Emoji          6104 non-null   int64  \n",
      " 13  Title Ellipses      6104 non-null   int64  \n",
      " 14  Body Ellipses       6104 non-null   int64  \n",
      " 15  Title Hashtags      6104 non-null   int64  \n",
      " 16  Body Hashtags       6104 non-null   int64  \n",
      " 17  Title Exclamations  6104 non-null   int64  \n",
      " 18  Body Exclamations   6104 non-null   int64  \n",
      " 19  Status Rank         6104 non-null   int64  \n",
      " 20  # Reviews           6104 non-null   int64  \n",
      " 21  Target Rating       6104 non-null   int64  \n",
      "dtypes: float64(8), int64(14)\n",
      "memory usage: 1.1 MB\n"
     ]
    }
   ],
   "source": [
    "ph_data.info()"
   ]
  },
  {
   "cell_type": "code",
   "execution_count": 127,
   "id": "63b51d89",
   "metadata": {},
   "outputs": [],
   "source": [
    "X = ph_data.iloc[:, 1:-1].values\n",
    "y = ph_data.iloc[:, -1].values"
   ]
  },
  {
   "cell_type": "code",
   "execution_count": 134,
   "id": "77c2e892",
   "metadata": {},
   "outputs": [],
   "source": [
    "from sklearn.model_selection import train_test_split\n",
    "X_train, X_test, y_train, y_test = train_test_split(X, y, test_size = 0.25, random_state = 0)"
   ]
  },
  {
   "cell_type": "code",
   "execution_count": 139,
   "id": "8738fdc9",
   "metadata": {},
   "outputs": [],
   "source": [
    "from sklearn.preprocessing import StandardScaler\n",
    "sc = StandardScaler()\n",
    "X_train = sc.fit_transform(X_train)\n",
    "X_test = sc.transform(X_test)"
   ]
  },
  {
   "cell_type": "code",
   "execution_count": 147,
   "id": "c02916fb",
   "metadata": {
    "scrolled": false
   },
   "outputs": [
    {
     "name": "stdout",
     "output_type": "stream",
     "text": [
      "[[501   0   0   0  59]\n",
      " [ 23   0   0   0   1]\n",
      " [ 18   0   0   0  23]\n",
      " [  9   0   0   1  61]\n",
      " [ 50   0   1   4 775]]\n"
     ]
    },
    {
     "name": "stderr",
     "output_type": "stream",
     "text": [
      "/Users/cheselle/opt/anaconda3/lib/python3.8/site-packages/sklearn/linear_model/_logistic.py:763: ConvergenceWarning: lbfgs failed to converge (status=1):\n",
      "STOP: TOTAL NO. of ITERATIONS REACHED LIMIT.\n",
      "\n",
      "Increase the number of iterations (max_iter) or scale the data as shown in:\n",
      "    https://scikit-learn.org/stable/modules/preprocessing.html\n",
      "Please also refer to the documentation for alternative solver options:\n",
      "    https://scikit-learn.org/stable/modules/linear_model.html#logistic-regression\n",
      "  n_iter_i = _check_optimize_result(\n"
     ]
    },
    {
     "data": {
      "text/plain": [
       "0.8368283093053736"
      ]
     },
     "execution_count": 147,
     "metadata": {},
     "output_type": "execute_result"
    }
   ],
   "source": [
    "from sklearn.linear_model import LogisticRegression\n",
    "classifier = LogisticRegression(random_state = 0)\n",
    "classifier.fit(X_train, y_train)\n",
    "\n",
    "y_pred = classifier.predict(X_test)\n",
    "\n",
    "from sklearn.metrics import confusion_matrix, accuracy_score\n",
    "cm = confusion_matrix(y_test, y_pred)\n",
    "print(cm)\n",
    "accuracy_score(y_test, y_pred)"
   ]
  },
  {
   "cell_type": "code",
   "execution_count": 148,
   "id": "ba1b9847",
   "metadata": {},
   "outputs": [
    {
     "name": "stdout",
     "output_type": "stream",
     "text": [
      "[[495   0   3   3  59]\n",
      " [ 20   0   1   0   3]\n",
      " [ 20   0   1   4  16]\n",
      " [ 10   0   2   6  53]\n",
      " [ 49   1   4  18 758]]\n"
     ]
    },
    {
     "data": {
      "text/plain": [
       "0.8256880733944955"
      ]
     },
     "execution_count": 148,
     "metadata": {},
     "output_type": "execute_result"
    }
   ],
   "source": [
    "from sklearn.neighbors import KNeighborsClassifier\n",
    "classifier = KNeighborsClassifier(n_neighbors = 5, metric = 'minkowski', p = 2)\n",
    "classifier.fit(X_train, y_train)\n",
    "\n",
    "y_pred = classifier.predict(X_test)\n",
    "\n",
    "from sklearn.metrics import confusion_matrix, accuracy_score\n",
    "cm = confusion_matrix(y_test, y_pred)\n",
    "print(cm)\n",
    "accuracy_score(y_test, y_pred)"
   ]
  },
  {
   "cell_type": "code",
   "execution_count": 149,
   "id": "4dc2445c",
   "metadata": {},
   "outputs": [
    {
     "name": "stdout",
     "output_type": "stream",
     "text": [
      "[[505   0   0   0  55]\n",
      " [ 23   0   0   0   1]\n",
      " [ 18   0   0   0  23]\n",
      " [ 10   0   0   0  61]\n",
      " [ 54   0   0   0 776]]\n"
     ]
    },
    {
     "data": {
      "text/plain": [
       "0.8394495412844036"
      ]
     },
     "execution_count": 149,
     "metadata": {},
     "output_type": "execute_result"
    }
   ],
   "source": [
    "from sklearn.svm import SVC\n",
    "classifier = SVC(kernel = 'linear', random_state = 0)\n",
    "classifier.fit(X_train, y_train)\n",
    "\n",
    "y_pred = classifier.predict(X_test)\n",
    "\n",
    "from sklearn.metrics import confusion_matrix, accuracy_score\n",
    "cm = confusion_matrix(y_test, y_pred)\n",
    "print(cm)\n",
    "accuracy_score(y_test, y_pred)"
   ]
  },
  {
   "cell_type": "code",
   "execution_count": 150,
   "id": "8abb3bef",
   "metadata": {},
   "outputs": [
    {
     "name": "stdout",
     "output_type": "stream",
     "text": [
      "[[507   0   0   0  53]\n",
      " [ 22   0   0   0   2]\n",
      " [ 20   0   0   0  21]\n",
      " [  9   0   0   0  62]\n",
      " [ 53   0   0   0 777]]\n"
     ]
    },
    {
     "data": {
      "text/plain": [
       "0.8414154652686763"
      ]
     },
     "execution_count": 150,
     "metadata": {},
     "output_type": "execute_result"
    }
   ],
   "source": [
    "from sklearn.svm import SVC\n",
    "classifier = SVC(kernel = 'rbf', random_state = 0)\n",
    "classifier.fit(X_train, y_train)\n",
    "\n",
    "y_pred = classifier.predict(X_test)\n",
    "\n",
    "from sklearn.metrics import confusion_matrix, accuracy_score\n",
    "cm = confusion_matrix(y_test, y_pred)\n",
    "print(cm)\n",
    "accuracy_score(y_test, y_pred)"
   ]
  },
  {
   "cell_type": "code",
   "execution_count": 151,
   "id": "caf9aeba",
   "metadata": {},
   "outputs": [
    {
     "name": "stdout",
     "output_type": "stream",
     "text": [
      "[[ 49 291 216   3   1]\n",
      " [  1  11  12   0   0]\n",
      " [  0  12  25   3   1]\n",
      " [  0   3  59   5   4]\n",
      " [  5  55 523 148  99]]\n"
     ]
    },
    {
     "data": {
      "text/plain": [
       "0.12385321100917432"
      ]
     },
     "execution_count": 151,
     "metadata": {},
     "output_type": "execute_result"
    }
   ],
   "source": [
    "from sklearn.naive_bayes import GaussianNB\n",
    "classifier = GaussianNB()\n",
    "classifier.fit(X_train, y_train)\n",
    "\n",
    "y_pred = classifier.predict(X_test)\n",
    "\n",
    "from sklearn.metrics import confusion_matrix, accuracy_score\n",
    "cm = confusion_matrix(y_test, y_pred)\n",
    "print(cm)\n",
    "accuracy_score(y_test, y_pred)"
   ]
  },
  {
   "cell_type": "code",
   "execution_count": 152,
   "id": "003acaa2",
   "metadata": {},
   "outputs": [
    {
     "name": "stdout",
     "output_type": "stream",
     "text": [
      "[[472  18  10   4  56]\n",
      " [ 16   5   2   0   1]\n",
      " [ 12   4   3   4  18]\n",
      " [  9   1   4  11  46]\n",
      " [ 60   6  10  70 684]]\n"
     ]
    },
    {
     "data": {
      "text/plain": [
       "0.7699868938401049"
      ]
     },
     "execution_count": 152,
     "metadata": {},
     "output_type": "execute_result"
    }
   ],
   "source": [
    "from sklearn.tree import DecisionTreeClassifier\n",
    "classifier = DecisionTreeClassifier(criterion = 'entropy', random_state = 0)\n",
    "classifier.fit(X_train, y_train)\n",
    "\n",
    "y_pred = classifier.predict(X_test)\n",
    "\n",
    "from sklearn.metrics import confusion_matrix, accuracy_score\n",
    "cm = confusion_matrix(y_test, y_pred)\n",
    "print(cm)\n",
    "accuracy_score(y_test, y_pred)"
   ]
  },
  {
   "cell_type": "code",
   "execution_count": 153,
   "id": "2d29bceb",
   "metadata": {},
   "outputs": [
    {
     "name": "stdout",
     "output_type": "stream",
     "text": [
      "[[510   0   0   1  49]\n",
      " [ 20   2   0   0   2]\n",
      " [ 17   0   1   3  20]\n",
      " [ 11   0   3   7  50]\n",
      " [ 60   1   2  24 743]]\n"
     ]
    },
    {
     "data": {
      "text/plain": [
       "0.827653997378768"
      ]
     },
     "execution_count": 153,
     "metadata": {},
     "output_type": "execute_result"
    }
   ],
   "source": [
    "from sklearn.ensemble import RandomForestClassifier\n",
    "classifier = RandomForestClassifier(n_estimators = 10, criterion = 'entropy', random_state = 0)\n",
    "classifier.fit(X_train, y_train)\n",
    "\n",
    "y_pred = classifier.predict(X_test)\n",
    "\n",
    "from sklearn.metrics import confusion_matrix, accuracy_score\n",
    "cm = confusion_matrix(y_test, y_pred)\n",
    "print(cm)\n",
    "accuracy_score(y_test, y_pred)"
   ]
  },
  {
   "cell_type": "code",
   "execution_count": null,
   "id": "dd537812",
   "metadata": {},
   "outputs": [],
   "source": []
  }
 ],
 "metadata": {
  "kernelspec": {
   "display_name": "Python 3",
   "language": "python",
   "name": "python3"
  },
  "language_info": {
   "codemirror_mode": {
    "name": "ipython",
    "version": 3
   },
   "file_extension": ".py",
   "mimetype": "text/x-python",
   "name": "python",
   "nbconvert_exporter": "python",
   "pygments_lexer": "ipython3",
   "version": "3.8.8"
  }
 },
 "nbformat": 4,
 "nbformat_minor": 5
}
